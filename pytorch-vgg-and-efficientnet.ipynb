{
 "cells": [
  {
   "cell_type": "markdown",
   "id": "1a09e537",
   "metadata": {
    "papermill": {
     "duration": 0.009561,
     "end_time": "2021-09-18T16:48:03.708797",
     "exception": false,
     "start_time": "2021-09-18T16:48:03.699236",
     "status": "completed"
    },
    "tags": []
   },
   "source": [
    "# **Import**"
   ]
  },
  {
   "cell_type": "code",
   "execution_count": 1,
   "id": "2400793f",
   "metadata": {
    "execution": {
     "iopub.execute_input": "2021-09-18T16:48:03.730422Z",
     "iopub.status.busy": "2021-09-18T16:48:03.729306Z",
     "iopub.status.idle": "2021-09-18T16:48:05.034791Z",
     "shell.execute_reply": "2021-09-18T16:48:05.034013Z",
     "shell.execute_reply.started": "2021-09-17T03:39:31.241221Z"
    },
    "papermill": {
     "duration": 1.317314,
     "end_time": "2021-09-18T16:48:05.034962",
     "exception": false,
     "start_time": "2021-09-18T16:48:03.717648",
     "status": "completed"
    },
    "tags": []
   },
   "outputs": [],
   "source": [
    "import torch\n",
    "import torchvision\n",
    "from torch import nn  \n",
    "import torchvision.datasets as datasets  \n",
    "import torchvision.transforms as transforms  \n",
    "from torch.utils.data import DataLoader  \n",
    "from torch import optim  \n",
    "from tqdm import tqdm  \n",
    "import torch.nn.functional as F  \n",
    "import torchvision.models as models\n",
    "from math import ceil"
   ]
  },
  {
   "cell_type": "markdown",
   "id": "df34592a",
   "metadata": {
    "papermill": {
     "duration": 0.008225,
     "end_time": "2021-09-18T16:48:05.052026",
     "exception": false,
     "start_time": "2021-09-18T16:48:05.043801",
     "status": "completed"
    },
    "tags": []
   },
   "source": [
    "# **EfficientNet**"
   ]
  },
  {
   "cell_type": "code",
   "execution_count": 2,
   "id": "1fe57e2e",
   "metadata": {
    "execution": {
     "iopub.execute_input": "2021-09-18T16:48:05.103293Z",
     "iopub.status.busy": "2021-09-18T16:48:05.093003Z",
     "iopub.status.idle": "2021-09-18T16:48:05.105232Z",
     "shell.execute_reply": "2021-09-18T16:48:05.105743Z",
     "shell.execute_reply.started": "2021-09-17T04:44:21.032632Z"
    },
    "papermill": {
     "duration": 0.045443,
     "end_time": "2021-09-18T16:48:05.105916",
     "exception": false,
     "start_time": "2021-09-18T16:48:05.060473",
     "status": "completed"
    },
    "tags": []
   },
   "outputs": [],
   "source": [
    "baseLine_model =[\n",
    "   [1, 16, 1, 1, 3],\n",
    "    [6, 24, 2, 2, 3],\n",
    "    [6, 40, 2, 2, 5],\n",
    "    [6, 80, 3, 2, 3],\n",
    "    [6, 112, 3, 1, 5],\n",
    "    [6, 192, 4, 2, 5],\n",
    "    [6, 320, 1, 1, 3],\n",
    "]\n",
    "\n",
    "phi_values={\n",
    "    \n",
    "    # phi value , resolution and drop_rate\n",
    "    \"b0\":(0,224,0.2), # alpha (depth) , beta (width) and gamma (resolution)\n",
    "    \"b1\": (0.5,240,0.2),   #depth=alpha**phi\n",
    "    \"b2\": (1, 260, 0.3),\n",
    "    \"b3\": (2, 300, 0.3),\n",
    "    \"b4\": (3, 380, 0.4),\n",
    "    \"b5\": (4, 456, 0.4),\n",
    "    \"b6\": (5, 528, 0.5),\n",
    "    \"b7\": (6, 600, 0.5),  \n",
    "}\n",
    "\n",
    "class CnnHood(nn.Module):\n",
    "    def __init__(self,in_channels,out_channels,kernel_size,stride,padding,groups=1):\n",
    "        super(CnnHood,self).__init__()\n",
    "        self.cnn=nn.Conv2d(\n",
    "            in_channels,\n",
    "            out_channels,\n",
    "            kernel_size,\n",
    "            stride,\n",
    "            padding,\n",
    "            groups=groups,\n",
    "            bias=False,\n",
    "        \n",
    "        )\n",
    "        self.BN=nn.BatchNorm2d(out_channels)\n",
    "        self.silu=nn.SiLU()\n",
    "    \n",
    "    def forward(self,x):\n",
    "        return self.silu(self.BN(self.cnn(x)))\n",
    "\n",
    "    \n",
    "class ExcitationHood(nn.Module):\n",
    "    def __init__(self,in_channels,reduced_dim):\n",
    "        super(ExcitationHood,self).__init__()\n",
    "        self.eh= nn.Sequential(\n",
    "            \n",
    "             nn.AdaptiveAvgPool2d(1), #c x h x w= c x 1 x 1\n",
    "             nn.Conv2d(in_channels,reduced_dim,1),\n",
    "             nn.SiLU(),\n",
    "             nn.Conv2d(reduced_dim,in_channels,1),\n",
    "             nn.Sigmoid(),\n",
    "        )\n",
    "     \n",
    "    def forward(self,x):\n",
    "        return x* self.eh(x)\n",
    "        \n",
    "\n",
    "\n",
    "\n",
    "class InvertedResidualBlock(nn.Module):                        #reduction : ExcitationHood   survival_rate: for stochastic depth \n",
    "    def __init__(self,in_channels,out_channels,kernel_size,stride,padding,expand_ratio,reduction=4,survival_prop=0.8):\n",
    "        super(InvertedResidualBlock, self).__init__()\n",
    "        self.survival_prob = 0.8\n",
    "        self.use_residual = in_channels == out_channels and stride == 1\n",
    "        hidden_dim = in_channels * expand_ratio\n",
    "        self.expand = in_channels != hidden_dim\n",
    "        reduced_dim = int(in_channels / reduction)\n",
    "        \n",
    "        if self.expand:\n",
    "            self.expand_conv =CnnHood(\n",
    "                in_channels,hidden_dim,kernel_size=3,stride=1,padding=1)\n",
    "            \n",
    "        self.conv = nn.Sequential(\n",
    "            CnnHood(\n",
    "                hidden_dim, hidden_dim, kernel_size, stride, padding, groups=hidden_dim,\n",
    "            ),\n",
    "            ExcitationHood(hidden_dim, reduced_dim),\n",
    "            nn.Conv2d(hidden_dim, out_channels, 1, bias=False),\n",
    "            nn.BatchNorm2d(out_channels),\n",
    "        )\n",
    "        \n",
    "    def stochastic_depth(self, x): #skip some layers\n",
    "        if not self.training:\n",
    "            return x\n",
    "        binary_T=torch.rand(x.shape[0],1,1,1,device=x.device) <self.survival_prob\n",
    "        \n",
    "        return torch.div(x,self.survival_prob)*binary_T\n",
    "        \n",
    "    def forward(self, inputs):\n",
    "        x = self.expand_conv(inputs) if self.expand else inputs\n",
    "\n",
    "        if self.use_residual:\n",
    "            return self.stochastic_depth(self.conv(x)) + inputs\n",
    "        else:\n",
    "            return self.conv(x)\n",
    "\n",
    "class EfficientNet(nn.Module):\n",
    "    def __init__(self, version, num_classes):\n",
    "        super(EfficientNet, self).__init__()\n",
    "        width_factor, depth_factor, dropout_rate = self.calculate_factors(version)\n",
    "        last_channels = ceil(1280 * width_factor)\n",
    "        self.pool = nn.AdaptiveAvgPool2d(1)\n",
    "        self.features = self.create_features(width_factor, depth_factor, last_channels)\n",
    "        self.classifier = nn.Sequential(\n",
    "            nn.Dropout(dropout_rate),\n",
    "            nn.Linear(last_channels, num_classes),\n",
    "        )\n",
    "\n",
    "    def calculate_factors(self, version, alpha=1.2, beta=1.1):\n",
    "        phi, res, drop_rate = phi_values[version]\n",
    "        depth_factor = alpha ** phi\n",
    "        width_factor = beta ** phi\n",
    "        return width_factor, depth_factor, drop_rate\n",
    "\n",
    "    def create_features(self, width_factor, depth_factor, last_channels):\n",
    "        channels = int(32 * width_factor)\n",
    "        features = [CnnHood(3, channels, 3, stride=2, padding=1)]\n",
    "        in_channels = channels\n",
    "\n",
    "        for expand_ratio, channels, repeats, stride, kernel_size in baseLine_model:\n",
    "            out_channels = 4*ceil(int(channels*width_factor) / 4)\n",
    "            layers_repeats = ceil(repeats * depth_factor)\n",
    "\n",
    "            for layer in range(layers_repeats):\n",
    "                features.append(\n",
    "                    InvertedResidualBlock(\n",
    "                        in_channels,\n",
    "                        out_channels,\n",
    "                        expand_ratio=expand_ratio,\n",
    "                        stride = stride if layer == 0 else 1,\n",
    "                        kernel_size=kernel_size,\n",
    "                        padding=kernel_size//2, # if k=1:pad=0, k=3:pad=1, k=5:pad=2\n",
    "                    )\n",
    "                )\n",
    "                in_channels = out_channels\n",
    "\n",
    "        features.append(\n",
    "            CnnHood(in_channels, last_channels, kernel_size=1, stride=1, padding=0)\n",
    "        )\n",
    "\n",
    "        return nn.Sequential(*features)\n",
    "\n",
    "    def forward(self, x):\n",
    "        x = self.pool(self.features(x))\n",
    "        return self.classifier(x.view(x.shape[0], -1))\n",
    "\n",
    "\n",
    "def test():\n",
    "    device = \"cuda\" if torch.cuda.is_available() else \"cpu\"\n",
    "    version = \"b3\"\n",
    "    phi, res, drop_rate = phi_values[version]\n",
    "    num_examples, num_classes = 4, 10\n",
    "    x = torch.randn((num_examples, 3, res, res)).to(device)\n",
    "    model = EfficientNet(\n",
    "        version=version,\n",
    "        num_classes=num_classes,\n",
    "    ).to(device)\n",
    "\n",
    "    print(model(x).shape) # (num_examples, num_classes)\n",
    "\n"
   ]
  },
  {
   "cell_type": "code",
   "execution_count": 3,
   "id": "3e7c04ff",
   "metadata": {
    "execution": {
     "iopub.execute_input": "2021-09-18T16:48:05.126468Z",
     "iopub.status.busy": "2021-09-18T16:48:05.125878Z",
     "iopub.status.idle": "2021-09-18T16:48:07.535363Z",
     "shell.execute_reply": "2021-09-18T16:48:07.535855Z",
     "shell.execute_reply.started": "2021-09-17T04:44:21.73931Z"
    },
    "papermill": {
     "duration": 2.421577,
     "end_time": "2021-09-18T16:48:07.536017",
     "exception": false,
     "start_time": "2021-09-18T16:48:05.114440",
     "status": "completed"
    },
    "tags": []
   },
   "outputs": [
    {
     "name": "stdout",
     "output_type": "stream",
     "text": [
      "torch.Size([4, 10])\n"
     ]
    }
   ],
   "source": [
    "test()"
   ]
  },
  {
   "cell_type": "markdown",
   "id": "b4c8368f",
   "metadata": {
    "papermill": {
     "duration": 0.008527,
     "end_time": "2021-09-18T16:48:07.553642",
     "exception": false,
     "start_time": "2021-09-18T16:48:07.545115",
     "status": "completed"
    },
    "tags": []
   },
   "source": [
    "# **VGG**"
   ]
  },
  {
   "cell_type": "code",
   "execution_count": 4,
   "id": "399e8970",
   "metadata": {
    "execution": {
     "iopub.execute_input": "2021-09-18T16:48:07.579807Z",
     "iopub.status.busy": "2021-09-18T16:48:07.578791Z",
     "iopub.status.idle": "2021-09-18T16:48:07.581689Z",
     "shell.execute_reply": "2021-09-18T16:48:07.581170Z",
     "shell.execute_reply.started": "2021-09-17T02:33:31.536947Z"
    },
    "papermill": {
     "duration": 0.019501,
     "end_time": "2021-09-18T16:48:07.581844",
     "exception": false,
     "start_time": "2021-09-18T16:48:07.562343",
     "status": "completed"
    },
    "tags": []
   },
   "outputs": [],
   "source": [
    "VGG_types = {\n",
    "    \"VGG11\": [64, \"M\", 128, \"M\", 256, 256, \"M\", 512, 512, \"M\", 512, 512, \"M\"],\n",
    "    \"VGG13\": [64, 64, \"M\", 128, 128, \"M\", 256, 256, \"M\", 512, 512, \"M\", 512, 512, \"M\"],\n",
    "    \"VGG16\": [64,64,\"M\",128,128,\"M\",256,256,256,\"M\",512,512,512,\"M\",512,512,512,\"M\",],\n",
    "    \"VGG19\": [64,64,\"M\",128,128,\"M\",256,256,256,256,\"M\",512,512,512,512,\"M\",512,512,512,512,\"M\"]\n",
    "}\n",
    "# Then flatten and fc1:4096 X fc2: 4096 X fc3:numClass"
   ]
  },
  {
   "cell_type": "code",
   "execution_count": 5,
   "id": "ed9e7146",
   "metadata": {
    "execution": {
     "iopub.execute_input": "2021-09-18T16:48:07.612119Z",
     "iopub.status.busy": "2021-09-18T16:48:07.611434Z",
     "iopub.status.idle": "2021-09-18T16:48:07.614185Z",
     "shell.execute_reply": "2021-09-18T16:48:07.613641Z",
     "shell.execute_reply.started": "2021-09-17T02:33:32.629821Z"
    },
    "papermill": {
     "duration": 0.023554,
     "end_time": "2021-09-18T16:48:07.614326",
     "exception": false,
     "start_time": "2021-09-18T16:48:07.590772",
     "status": "completed"
    },
    "tags": []
   },
   "outputs": [],
   "source": [
    "class VGG_net(nn.Module):\n",
    "    def __init__(self, in_channels=3, num_classes=1000):\n",
    "        super(VGG_net, self).__init__()\n",
    "        self.in_channels = in_channels\n",
    "        self.conv_layers = self.create_conv_layers(VGG_types[\"VGG16\"])\n",
    "\n",
    "        self.fcs = nn.Sequential(\n",
    "            nn.Linear(512 * 7 * 7, 4096),\n",
    "            nn.ReLU(),\n",
    "            nn.Dropout(p=0.5),\n",
    "            nn.Linear(4096, 4096),\n",
    "            nn.ReLU(),\n",
    "            nn.Dropout(p=0.5),\n",
    "            nn.Linear(4096, num_classes),\n",
    "        )\n",
    "\n",
    "    def forward(self, x):\n",
    "        x = self.conv_layers(x)\n",
    "        x = x.reshape(x.shape[0], -1)\n",
    "        x = self.fcs(x)\n",
    "        return x\n",
    "\n",
    "    def create_conv_layers(self, architecture):\n",
    "        layers = []\n",
    "        in_channels = self.in_channels\n",
    "\n",
    "        for x in architecture:\n",
    "            if type(x) == int:\n",
    "                out_channels = x\n",
    "\n",
    "                layers += [\n",
    "                    nn.Conv2d(\n",
    "                        in_channels=in_channels,\n",
    "                        out_channels=out_channels,\n",
    "                        kernel_size=(3, 3),\n",
    "                        stride=(1, 1),\n",
    "                        padding=(1, 1),\n",
    "                    ),\n",
    "                    nn.BatchNorm2d(x),\n",
    "                    nn.ReLU(),\n",
    "                ]\n",
    "                in_channels = x\n",
    "            elif x == \"M\":\n",
    "                layers += [nn.MaxPool2d(kernel_size=(2, 2), stride=(2, 2))]\n",
    "\n",
    "        return nn.Sequential(*layers)"
   ]
  },
  {
   "cell_type": "code",
   "execution_count": 6,
   "id": "1b14ff2a",
   "metadata": {
    "execution": {
     "iopub.execute_input": "2021-09-18T16:48:07.635886Z",
     "iopub.status.busy": "2021-09-18T16:48:07.635226Z",
     "iopub.status.idle": "2021-09-18T16:48:08.757973Z",
     "shell.execute_reply": "2021-09-18T16:48:08.758486Z",
     "shell.execute_reply.started": "2021-09-18T16:47:31.677847Z"
    },
    "papermill": {
     "duration": 1.135269,
     "end_time": "2021-09-18T16:48:08.758669",
     "exception": false,
     "start_time": "2021-09-18T16:48:07.623400",
     "status": "completed"
    },
    "tags": []
   },
   "outputs": [],
   "source": [
    "#check layerwise working \n",
    "model =VGG_net(in_channels=3,num_classes=1000)\n",
    "x= torch.randn(1,3,224,224)\n"
   ]
  },
  {
   "cell_type": "code",
   "execution_count": null,
   "id": "733bce77",
   "metadata": {
    "papermill": {
     "duration": 0.009694,
     "end_time": "2021-09-18T16:48:08.778934",
     "exception": false,
     "start_time": "2021-09-18T16:48:08.769240",
     "status": "completed"
    },
    "tags": []
   },
   "outputs": [],
   "source": []
  }
 ],
 "metadata": {
  "kernelspec": {
   "display_name": "Python 3",
   "language": "python",
   "name": "python3"
  },
  "language_info": {
   "codemirror_mode": {
    "name": "ipython",
    "version": 3
   },
   "file_extension": ".py",
   "mimetype": "text/x-python",
   "name": "python",
   "nbconvert_exporter": "python",
   "pygments_lexer": "ipython3",
   "version": "3.7.10"
  },
  "papermill": {
   "default_parameters": {},
   "duration": 14.732254,
   "end_time": "2021-09-18T16:48:10.339534",
   "environment_variables": {},
   "exception": null,
   "input_path": "__notebook__.ipynb",
   "output_path": "__notebook__.ipynb",
   "parameters": {},
   "start_time": "2021-09-18T16:47:55.607280",
   "version": "2.3.3"
  }
 },
 "nbformat": 4,
 "nbformat_minor": 5
}
